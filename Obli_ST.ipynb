{
 "cells": [
  {
   "cell_type": "code",
   "execution_count": 5,
   "metadata": {},
   "outputs": [],
   "source": [
    "library(astsa)\n",
    "library(forecast)\n",
    "library(ggplot2)\n",
    "library(xts)\n",
    "\n",
    "options(repr.plot.width=12, repr.plot.height=7) #ajusta tamaño de graficas"
   ]
  },
  {
   "cell_type": "code",
   "execution_count": 121,
   "metadata": {},
   "outputs": [],
   "source": [
    "datos = read.csv(\"Datos_MP2.csv\")"
   ]
  },
  {
   "cell_type": "code",
   "execution_count": 122,
   "metadata": {},
   "outputs": [
    {
     "data": {
      "text/html": [
       "'data.frame'"
      ],
      "text/latex": [
       "'data.frame'"
      ],
      "text/markdown": [
       "'data.frame'"
      ],
      "text/plain": [
       "[1] \"data.frame\""
      ]
     },
     "metadata": {},
     "output_type": "display_data"
    }
   ],
   "source": [
    "class(datos)"
   ]
  },
  {
   "cell_type": "code",
   "execution_count": 123,
   "metadata": {},
   "outputs": [
    {
     "name": "stdout",
     "output_type": "stream",
     "text": [
      "'data.frame':\t41 obs. of  1 variable:\n",
      " $ Frec: int  30306 36231 26664 36559 40657 32335 32442 27052 36862 32227 ...\n"
     ]
    }
   ],
   "source": [
    "str(datos)"
   ]
  },
  {
   "cell_type": "code",
   "execution_count": 135,
   "metadata": {},
   "outputs": [
    {
     "data": {
      "text/html": [
       "<table>\n",
       "<thead><tr><th scope=col>Frec</th></tr></thead>\n",
       "<tbody>\n",
       "\t<tr><td>30306</td></tr>\n",
       "\t<tr><td>36231</td></tr>\n",
       "\t<tr><td>26664</td></tr>\n",
       "\t<tr><td>36559</td></tr>\n",
       "\t<tr><td>40657</td></tr>\n",
       "\t<tr><td>32335</td></tr>\n",
       "\t<tr><td>32442</td></tr>\n",
       "\t<tr><td>27052</td></tr>\n",
       "\t<tr><td>36862</td></tr>\n",
       "\t<tr><td>32227</td></tr>\n",
       "\t<tr><td>37715</td></tr>\n",
       "\t<tr><td>30162</td></tr>\n",
       "\t<tr><td>33916</td></tr>\n",
       "\t<tr><td>31447</td></tr>\n",
       "\t<tr><td>33751</td></tr>\n",
       "\t<tr><td>28796</td></tr>\n",
       "\t<tr><td>28634</td></tr>\n",
       "\t<tr><td>38527</td></tr>\n",
       "\t<tr><td>32466</td></tr>\n",
       "\t<tr><td>42898</td></tr>\n",
       "\t<tr><td>35696</td></tr>\n",
       "\t<tr><td>38362</td></tr>\n",
       "\t<tr><td>39229</td></tr>\n",
       "\t<tr><td>45172</td></tr>\n",
       "\t<tr><td>50093</td></tr>\n",
       "\t<tr><td>38720</td></tr>\n",
       "\t<tr><td>27460</td></tr>\n",
       "\t<tr><td>34495</td></tr>\n",
       "\t<tr><td>39289</td></tr>\n",
       "\t<tr><td>39758</td></tr>\n",
       "\t<tr><td>33173</td></tr>\n",
       "\t<tr><td>43995</td></tr>\n",
       "\t<tr><td>46308</td></tr>\n",
       "\t<tr><td>45802</td></tr>\n",
       "\t<tr><td>44686</td></tr>\n",
       "\t<tr><td>41101</td></tr>\n",
       "\t<tr><td>51610</td></tr>\n",
       "\t<tr><td>47022</td></tr>\n",
       "\t<tr><td>57518</td></tr>\n",
       "\t<tr><td>43529</td></tr>\n",
       "\t<tr><td>32962</td></tr>\n",
       "</tbody>\n",
       "</table>\n"
      ],
      "text/latex": [
       "\\begin{tabular}{r|l}\n",
       " Frec\\\\\n",
       "\\hline\n",
       "\t 30306\\\\\n",
       "\t 36231\\\\\n",
       "\t 26664\\\\\n",
       "\t 36559\\\\\n",
       "\t 40657\\\\\n",
       "\t 32335\\\\\n",
       "\t 32442\\\\\n",
       "\t 27052\\\\\n",
       "\t 36862\\\\\n",
       "\t 32227\\\\\n",
       "\t 37715\\\\\n",
       "\t 30162\\\\\n",
       "\t 33916\\\\\n",
       "\t 31447\\\\\n",
       "\t 33751\\\\\n",
       "\t 28796\\\\\n",
       "\t 28634\\\\\n",
       "\t 38527\\\\\n",
       "\t 32466\\\\\n",
       "\t 42898\\\\\n",
       "\t 35696\\\\\n",
       "\t 38362\\\\\n",
       "\t 39229\\\\\n",
       "\t 45172\\\\\n",
       "\t 50093\\\\\n",
       "\t 38720\\\\\n",
       "\t 27460\\\\\n",
       "\t 34495\\\\\n",
       "\t 39289\\\\\n",
       "\t 39758\\\\\n",
       "\t 33173\\\\\n",
       "\t 43995\\\\\n",
       "\t 46308\\\\\n",
       "\t 45802\\\\\n",
       "\t 44686\\\\\n",
       "\t 41101\\\\\n",
       "\t 51610\\\\\n",
       "\t 47022\\\\\n",
       "\t 57518\\\\\n",
       "\t 43529\\\\\n",
       "\t 32962\\\\\n",
       "\\end{tabular}\n"
      ],
      "text/markdown": [
       "\n",
       "| Frec |\n",
       "|---|\n",
       "| 30306 |\n",
       "| 36231 |\n",
       "| 26664 |\n",
       "| 36559 |\n",
       "| 40657 |\n",
       "| 32335 |\n",
       "| 32442 |\n",
       "| 27052 |\n",
       "| 36862 |\n",
       "| 32227 |\n",
       "| 37715 |\n",
       "| 30162 |\n",
       "| 33916 |\n",
       "| 31447 |\n",
       "| 33751 |\n",
       "| 28796 |\n",
       "| 28634 |\n",
       "| 38527 |\n",
       "| 32466 |\n",
       "| 42898 |\n",
       "| 35696 |\n",
       "| 38362 |\n",
       "| 39229 |\n",
       "| 45172 |\n",
       "| 50093 |\n",
       "| 38720 |\n",
       "| 27460 |\n",
       "| 34495 |\n",
       "| 39289 |\n",
       "| 39758 |\n",
       "| 33173 |\n",
       "| 43995 |\n",
       "| 46308 |\n",
       "| 45802 |\n",
       "| 44686 |\n",
       "| 41101 |\n",
       "| 51610 |\n",
       "| 47022 |\n",
       "| 57518 |\n",
       "| 43529 |\n",
       "| 32962 |\n",
       "\n"
      ],
      "text/plain": [
       "   Frec \n",
       "1  30306\n",
       "2  36231\n",
       "3  26664\n",
       "4  36559\n",
       "5  40657\n",
       "6  32335\n",
       "7  32442\n",
       "8  27052\n",
       "9  36862\n",
       "10 32227\n",
       "11 37715\n",
       "12 30162\n",
       "13 33916\n",
       "14 31447\n",
       "15 33751\n",
       "16 28796\n",
       "17 28634\n",
       "18 38527\n",
       "19 32466\n",
       "20 42898\n",
       "21 35696\n",
       "22 38362\n",
       "23 39229\n",
       "24 45172\n",
       "25 50093\n",
       "26 38720\n",
       "27 27460\n",
       "28 34495\n",
       "29 39289\n",
       "30 39758\n",
       "31 33173\n",
       "32 43995\n",
       "33 46308\n",
       "34 45802\n",
       "35 44686\n",
       "36 41101\n",
       "37 51610\n",
       "38 47022\n",
       "39 57518\n",
       "40 43529\n",
       "41 32962"
      ]
     },
     "metadata": {},
     "output_type": "display_data"
    }
   ],
   "source": [
    "datos"
   ]
  },
  {
   "cell_type": "code",
   "execution_count": 153,
   "metadata": {},
   "outputs": [
    {
     "name": "stderr",
     "output_type": "stream",
     "text": [
      "ERROR while rich displaying an object: Error in if (many_rows) {: argumento tiene longitud cero\n",
      "\n",
      "Traceback:\n",
      "1. FUN(X[[i]], ...)\n",
      "2. tryCatch(withCallingHandlers({\n",
      " .     if (!mime %in% names(repr::mime2repr)) \n",
      " .         stop(\"No repr_* for mimetype \", mime, \" in repr::mime2repr\")\n",
      " .     rpr <- repr::mime2repr[[mime]](obj)\n",
      " .     if (is.null(rpr)) \n",
      " .         return(NULL)\n",
      " .     prepare_content(is.raw(rpr), rpr)\n",
      " . }, error = error_handler), error = outer_handler)\n",
      "3. tryCatchList(expr, classes, parentenv, handlers)\n",
      "4. tryCatchOne(expr, names, parentenv, handlers[[1L]])\n",
      "5. doTryCatch(return(expr), name, parentenv, handler)\n",
      "6. withCallingHandlers({\n",
      " .     if (!mime %in% names(repr::mime2repr)) \n",
      " .         stop(\"No repr_* for mimetype \", mime, \" in repr::mime2repr\")\n",
      " .     rpr <- repr::mime2repr[[mime]](obj)\n",
      " .     if (is.null(rpr)) \n",
      " .         return(NULL)\n",
      " .     prepare_content(is.raw(rpr), rpr)\n",
      " . }, error = error_handler)\n",
      "7. repr::mime2repr[[mime]](obj)\n",
      "8. repr_text.ts(obj)\n",
      "9. repr_ts_generic(obj, repr_text.matrix, ...)\n",
      "10. repr_func(m, ..., rows = nrow(m), cols = ncol(m))\n",
      "11. ellip_limit_arr(obj, ...)\n",
      "12. arr_partition(a, rows, cols)\n"
     ]
    }
   ],
   "source": [
    "datos_MP=ts(datos$Frec,freq= 36,start=2020)\n",
    "datos_MP"
   ]
  },
  {
   "cell_type": "code",
   "execution_count": 152,
   "metadata": {},
   "outputs": [
    {
     "data": {
      "image/png": "[encoded data removed]",
      "text/plain": [
       "plot without title"
      ]
     },
     "metadata": {},
     "output_type": "display_data"
    }
   ],
   "source": [
    "tsplot(datos_MP)"
   ]
  },
  {
   "cell_type": "code",
   "execution_count": 143,
   "metadata": {},
   "outputs": [
    {
     "name": "stderr",
     "output_type": "stream",
     "text": [
      "ERROR while rich displaying an object: Error in if (many_rows) {: argumento tiene longitud cero\n",
      "\n",
      "Traceback:\n",
      "1. FUN(X[[i]], ...)\n",
      "2. tryCatch(withCallingHandlers({\n",
      " .     if (!mime %in% names(repr::mime2repr)) \n",
      " .         stop(\"No repr_* for mimetype \", mime, \" in repr::mime2repr\")\n",
      " .     rpr <- repr::mime2repr[[mime]](obj)\n",
      " .     if (is.null(rpr)) \n",
      " .         return(NULL)\n",
      " .     prepare_content(is.raw(rpr), rpr)\n",
      " . }, error = error_handler), error = outer_handler)\n",
      "3. tryCatchList(expr, classes, parentenv, handlers)\n",
      "4. tryCatchOne(expr, names, parentenv, handlers[[1L]])\n",
      "5. doTryCatch(return(expr), name, parentenv, handler)\n",
      "6. withCallingHandlers({\n",
      " .     if (!mime %in% names(repr::mime2repr)) \n",
      " .         stop(\"No repr_* for mimetype \", mime, \" in repr::mime2repr\")\n",
      " .     rpr <- repr::mime2repr[[mime]](obj)\n",
      " .     if (is.null(rpr)) \n",
      " .         return(NULL)\n",
      " .     prepare_content(is.raw(rpr), rpr)\n",
      " . }, error = error_handler)\n",
      "7. repr::mime2repr[[mime]](obj)\n",
      "8. repr_text.ts(obj)\n",
      "9. repr_ts_generic(obj, repr_text.matrix, ...)\n",
      "10. repr_func(m, ..., rows = nrow(m), cols = ncol(m))\n",
      "11. ellip_limit_arr(obj, ...)\n",
      "12. arr_partition(a, rows, cols)\n"
     ]
    }
   ],
   "source": [
    "t = time(datos_MP)\n",
    "t"
   ]
  },
  {
   "cell_type": "code",
   "execution_count": null,
   "metadata": {},
   "outputs": [],
   "source": []
  },
  {
   "cell_type": "code",
   "execution_count": null,
   "metadata": {},
   "outputs": [],
   "source": [
    "\n",
    "season =factor(cycle(datos_MP))\n",
    "t=time(datos_MP)\n",
    "fit1 = lm(datos_MP~t+season)\n",
    "summary(fit1)"
   ]
  },
  {
   "cell_type": "code",
   "execution_count": 126,
   "metadata": {},
   "outputs": [
    {
     "ename": "ERROR",
     "evalue": "Error in stripchart.default(x1, ...): invalid plotting method\n",
     "output_type": "error",
     "traceback": [
      "Error in stripchart.default(x1, ...): invalid plotting method\nTraceback:\n",
      "1. tsplot(datos)",
      "2. plot(x, y, type = type0, axes = FALSE, ann = FALSE, main = NULL, \n .     pch = pch, ...)",
      "3. plot.data.frame(x, y, type = type0, axes = FALSE, ann = FALSE, \n .     main = NULL, pch = pch, ...)",
      "4. stripchart(x1, ...)",
      "5. stripchart.default(x1, ...)",
      "6. stop(\"invalid plotting method\")"
     ]
    }
   ],
   "source": [
    "tsplot(datos)"
   ]
  },
  {
   "cell_type": "code",
   "execution_count": null,
   "metadata": {},
   "outputs": [],
   "source": []
  },
  {
   "cell_type": "code",
   "execution_count": null,
   "metadata": {},
   "outputs": [],
   "source": []
  }
 ],
 "metadata": {
  "kernelspec": {
   "display_name": "R",
   "language": "R",
   "name": "ir"
  },
  "language_info": {
   "codemirror_mode": "r",
   "file_extension": ".r",
   "mimetype": "text/x-r-source",
   "name": "R",
   "pygments_lexer": "r",
   "version": "3.6.1"
  }
 },
 "nbformat": 4,
 "nbformat_minor": 4
}
